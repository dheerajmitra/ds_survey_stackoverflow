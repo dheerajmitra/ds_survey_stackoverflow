{
 "cells": [
  {
   "cell_type": "markdown",
   "metadata": {},
   "source": [
    "# Data Analysis on Stack overflow survey "
   ]
  },
  {
   "cell_type": "code",
   "execution_count": 2,
   "metadata": {},
   "outputs": [
    {
     "data": {
      "text/html": [
       "<div>\n",
       "<style scoped>\n",
       "    .dataframe tbody tr th:only-of-type {\n",
       "        vertical-align: middle;\n",
       "    }\n",
       "\n",
       "    .dataframe tbody tr th {\n",
       "        vertical-align: top;\n",
       "    }\n",
       "\n",
       "    .dataframe thead th {\n",
       "        text-align: right;\n",
       "    }\n",
       "</style>\n",
       "<table border=\"1\" class=\"dataframe\">\n",
       "  <thead>\n",
       "    <tr style=\"text-align: right;\">\n",
       "      <th></th>\n",
       "      <th>Respondent</th>\n",
       "      <th>Professional</th>\n",
       "      <th>ProgramHobby</th>\n",
       "      <th>Country</th>\n",
       "      <th>University</th>\n",
       "      <th>EmploymentStatus</th>\n",
       "      <th>FormalEducation</th>\n",
       "      <th>MajorUndergrad</th>\n",
       "      <th>HomeRemote</th>\n",
       "      <th>CompanySize</th>\n",
       "      <th>...</th>\n",
       "      <th>StackOverflowMakeMoney</th>\n",
       "      <th>Gender</th>\n",
       "      <th>HighestEducationParents</th>\n",
       "      <th>Race</th>\n",
       "      <th>SurveyLong</th>\n",
       "      <th>QuestionsInteresting</th>\n",
       "      <th>QuestionsConfusing</th>\n",
       "      <th>InterestedAnswers</th>\n",
       "      <th>Salary</th>\n",
       "      <th>ExpectedSalary</th>\n",
       "    </tr>\n",
       "  </thead>\n",
       "  <tbody>\n",
       "    <tr>\n",
       "      <th>0</th>\n",
       "      <td>1</td>\n",
       "      <td>Student</td>\n",
       "      <td>Yes, both</td>\n",
       "      <td>United States</td>\n",
       "      <td>No</td>\n",
       "      <td>Not employed, and not looking for work</td>\n",
       "      <td>Secondary school</td>\n",
       "      <td>NaN</td>\n",
       "      <td>NaN</td>\n",
       "      <td>NaN</td>\n",
       "      <td>...</td>\n",
       "      <td>Strongly disagree</td>\n",
       "      <td>Male</td>\n",
       "      <td>High school</td>\n",
       "      <td>White or of European descent</td>\n",
       "      <td>Strongly disagree</td>\n",
       "      <td>Strongly agree</td>\n",
       "      <td>Disagree</td>\n",
       "      <td>Strongly agree</td>\n",
       "      <td>NaN</td>\n",
       "      <td>NaN</td>\n",
       "    </tr>\n",
       "    <tr>\n",
       "      <th>1</th>\n",
       "      <td>2</td>\n",
       "      <td>Student</td>\n",
       "      <td>Yes, both</td>\n",
       "      <td>United Kingdom</td>\n",
       "      <td>Yes, full-time</td>\n",
       "      <td>Employed part-time</td>\n",
       "      <td>Some college/university study without earning ...</td>\n",
       "      <td>Computer science or software engineering</td>\n",
       "      <td>More than half, but not all, the time</td>\n",
       "      <td>20 to 99 employees</td>\n",
       "      <td>...</td>\n",
       "      <td>Strongly disagree</td>\n",
       "      <td>Male</td>\n",
       "      <td>A master's degree</td>\n",
       "      <td>White or of European descent</td>\n",
       "      <td>Somewhat agree</td>\n",
       "      <td>Somewhat agree</td>\n",
       "      <td>Disagree</td>\n",
       "      <td>Strongly agree</td>\n",
       "      <td>NaN</td>\n",
       "      <td>37500.0</td>\n",
       "    </tr>\n",
       "    <tr>\n",
       "      <th>2</th>\n",
       "      <td>3</td>\n",
       "      <td>Professional developer</td>\n",
       "      <td>Yes, both</td>\n",
       "      <td>United Kingdom</td>\n",
       "      <td>No</td>\n",
       "      <td>Employed full-time</td>\n",
       "      <td>Bachelor's degree</td>\n",
       "      <td>Computer science or software engineering</td>\n",
       "      <td>Less than half the time, but at least one day ...</td>\n",
       "      <td>10,000 or more employees</td>\n",
       "      <td>...</td>\n",
       "      <td>Disagree</td>\n",
       "      <td>Male</td>\n",
       "      <td>A professional degree</td>\n",
       "      <td>White or of European descent</td>\n",
       "      <td>Somewhat agree</td>\n",
       "      <td>Agree</td>\n",
       "      <td>Disagree</td>\n",
       "      <td>Agree</td>\n",
       "      <td>113750.0</td>\n",
       "      <td>NaN</td>\n",
       "    </tr>\n",
       "    <tr>\n",
       "      <th>3</th>\n",
       "      <td>4</td>\n",
       "      <td>Professional non-developer who sometimes write...</td>\n",
       "      <td>Yes, both</td>\n",
       "      <td>United States</td>\n",
       "      <td>No</td>\n",
       "      <td>Employed full-time</td>\n",
       "      <td>Doctoral degree</td>\n",
       "      <td>A non-computer-focused engineering discipline</td>\n",
       "      <td>Less than half the time, but at least one day ...</td>\n",
       "      <td>10,000 or more employees</td>\n",
       "      <td>...</td>\n",
       "      <td>Disagree</td>\n",
       "      <td>Male</td>\n",
       "      <td>A doctoral degree</td>\n",
       "      <td>White or of European descent</td>\n",
       "      <td>Agree</td>\n",
       "      <td>Agree</td>\n",
       "      <td>Somewhat agree</td>\n",
       "      <td>Strongly agree</td>\n",
       "      <td>NaN</td>\n",
       "      <td>NaN</td>\n",
       "    </tr>\n",
       "    <tr>\n",
       "      <th>4</th>\n",
       "      <td>5</td>\n",
       "      <td>Professional developer</td>\n",
       "      <td>Yes, I program as a hobby</td>\n",
       "      <td>Switzerland</td>\n",
       "      <td>No</td>\n",
       "      <td>Employed full-time</td>\n",
       "      <td>Master's degree</td>\n",
       "      <td>Computer science or software engineering</td>\n",
       "      <td>Never</td>\n",
       "      <td>10 to 19 employees</td>\n",
       "      <td>...</td>\n",
       "      <td>NaN</td>\n",
       "      <td>NaN</td>\n",
       "      <td>NaN</td>\n",
       "      <td>NaN</td>\n",
       "      <td>NaN</td>\n",
       "      <td>NaN</td>\n",
       "      <td>NaN</td>\n",
       "      <td>NaN</td>\n",
       "      <td>NaN</td>\n",
       "      <td>NaN</td>\n",
       "    </tr>\n",
       "  </tbody>\n",
       "</table>\n",
       "<p>5 rows × 154 columns</p>\n",
       "</div>"
      ],
      "text/plain": [
       "   Respondent                                       Professional  \\\n",
       "0           1                                            Student   \n",
       "1           2                                            Student   \n",
       "2           3                             Professional developer   \n",
       "3           4  Professional non-developer who sometimes write...   \n",
       "4           5                             Professional developer   \n",
       "\n",
       "                ProgramHobby         Country      University  \\\n",
       "0                  Yes, both   United States              No   \n",
       "1                  Yes, both  United Kingdom  Yes, full-time   \n",
       "2                  Yes, both  United Kingdom              No   \n",
       "3                  Yes, both   United States              No   \n",
       "4  Yes, I program as a hobby     Switzerland              No   \n",
       "\n",
       "                         EmploymentStatus  \\\n",
       "0  Not employed, and not looking for work   \n",
       "1                      Employed part-time   \n",
       "2                      Employed full-time   \n",
       "3                      Employed full-time   \n",
       "4                      Employed full-time   \n",
       "\n",
       "                                     FormalEducation  \\\n",
       "0                                   Secondary school   \n",
       "1  Some college/university study without earning ...   \n",
       "2                                  Bachelor's degree   \n",
       "3                                    Doctoral degree   \n",
       "4                                    Master's degree   \n",
       "\n",
       "                                  MajorUndergrad  \\\n",
       "0                                            NaN   \n",
       "1       Computer science or software engineering   \n",
       "2       Computer science or software engineering   \n",
       "3  A non-computer-focused engineering discipline   \n",
       "4       Computer science or software engineering   \n",
       "\n",
       "                                          HomeRemote  \\\n",
       "0                                                NaN   \n",
       "1              More than half, but not all, the time   \n",
       "2  Less than half the time, but at least one day ...   \n",
       "3  Less than half the time, but at least one day ...   \n",
       "4                                              Never   \n",
       "\n",
       "                CompanySize       ...       StackOverflowMakeMoney Gender  \\\n",
       "0                       NaN       ...            Strongly disagree   Male   \n",
       "1        20 to 99 employees       ...            Strongly disagree   Male   \n",
       "2  10,000 or more employees       ...                     Disagree   Male   \n",
       "3  10,000 or more employees       ...                     Disagree   Male   \n",
       "4        10 to 19 employees       ...                          NaN    NaN   \n",
       "\n",
       "  HighestEducationParents                          Race         SurveyLong  \\\n",
       "0             High school  White or of European descent  Strongly disagree   \n",
       "1       A master's degree  White or of European descent     Somewhat agree   \n",
       "2   A professional degree  White or of European descent     Somewhat agree   \n",
       "3       A doctoral degree  White or of European descent              Agree   \n",
       "4                     NaN                           NaN                NaN   \n",
       "\n",
       "  QuestionsInteresting QuestionsConfusing InterestedAnswers    Salary  \\\n",
       "0       Strongly agree           Disagree    Strongly agree       NaN   \n",
       "1       Somewhat agree           Disagree    Strongly agree       NaN   \n",
       "2                Agree           Disagree             Agree  113750.0   \n",
       "3                Agree     Somewhat agree    Strongly agree       NaN   \n",
       "4                  NaN                NaN               NaN       NaN   \n",
       "\n",
       "   ExpectedSalary  \n",
       "0             NaN  \n",
       "1         37500.0  \n",
       "2             NaN  \n",
       "3             NaN  \n",
       "4             NaN  \n",
       "\n",
       "[5 rows x 154 columns]"
      ]
     },
     "execution_count": 2,
     "metadata": {},
     "output_type": "execute_result"
    }
   ],
   "source": [
    "import numpy as np\n",
    "import pandas as pd\n",
    "import matplotlib.pyplot as plt\n",
    "import ALookAtTheData as t\n",
    "%matplotlib inline\n",
    "\n",
    "df = pd.read_csv('./survey_results_public.csv')\n",
    "df.head()"
   ]
  },
  {
   "cell_type": "markdown",
   "metadata": {},
   "source": [
    "Let start with how many male and female attend the survey"
   ]
  },
  {
   "cell_type": "code",
   "execution_count": 3,
   "metadata": {},
   "outputs": [
    {
     "data": {
      "text/plain": [
       "Male                                                       11664\n",
       "Female                                                       970\n",
       "Other                                                         73\n",
       "Gender non-conforming                                         54\n",
       "Male; Other                                                   42\n",
       "Female; Transgender                                           28\n",
       "Transgender                                                   20\n",
       "Male; Gender non-conforming                                   19\n",
       "Female; Gender non-conforming                                 11\n",
       "Transgender; Gender non-conforming                             5\n",
       "Male; Female                                                   5\n",
       "Male; Female; Transgender; Gender non-conforming; Other        4\n",
       "Male; Transgender                                              4\n",
       "Female; Transgender; Gender non-conforming                     3\n",
       "Male; Female; Transgender                                      2\n",
       "Male; Female; Transgender; Gender non-conforming               2\n",
       "Male; Female; Other                                            1\n",
       "Female; Other                                                  1\n",
       "Gender non-conforming; Other                                   1\n",
       "Male; Female; Gender non-conforming                            1\n",
       "Name: Gender, dtype: int64"
      ]
     },
     "execution_count": 3,
     "metadata": {},
     "output_type": "execute_result"
    }
   ],
   "source": [
    "df['Gender'].value_counts()"
   ]
  },
  {
   "cell_type": "markdown",
   "metadata": {},
   "source": [
    "this "
   ]
  },
  {
   "cell_type": "markdown",
   "metadata": {},
   "source": [
    "# Q1 I want to know How bootcamps assisting with increasing diversity in tech careers and How Bootcamp helping Job and Developers?"
   ]
  },
  {
   "cell_type": "code",
   "execution_count": 4,
   "metadata": {},
   "outputs": [],
   "source": [
    "bootcamp_df=df[df['TimeAfterBootcamp'].isnull()==False]\n",
    "nonbootcamp_df=df[df['TimeAfterBootcamp'].isnull()==True]"
   ]
  },
  {
   "cell_type": "code",
   "execution_count": 5,
   "metadata": {},
   "outputs": [
    {
     "data": {
      "text/plain": [
       "I already had a job as a developer when I started the program    0.479592\n",
       "I got a job as a developer before completing the program         0.104308\n",
       "One to three months                                              0.096372\n",
       "Immediately upon graduating                                      0.095238\n",
       "I haven't gotten a job as a developer yet                        0.072562\n",
       "Less than a month                                                0.053288\n",
       "Four to six months                                               0.035147\n",
       "Six months to a year                                             0.032880\n",
       "Longer than a year                                               0.030612\n",
       "Name: TimeAfterBootcamp, dtype: float64"
      ]
     },
     "execution_count": 5,
     "metadata": {},
     "output_type": "execute_result"
    }
   ],
   "source": [
    "bootcamp_df['TimeAfterBootcamp'].value_counts()/bootcamp_df.shape[0]"
   ]
  },
  {
   "cell_type": "code",
   "execution_count": 6,
   "metadata": {
    "scrolled": true
   },
   "outputs": [
    {
     "data": {
      "text/plain": [
       "120000.000000    9\n",
       "110000.000000    8\n",
       "90000.000000     6\n",
       "100000.000000    5\n",
       "80000.000000     4\n",
       "70000.000000     4\n",
       "130000.000000    4\n",
       "150000.000000    4\n",
       "115000.000000    4\n",
       "27956.989247     3\n",
       "64516.129032     3\n",
       "60000.000000     3\n",
       "86021.505376     3\n",
       "55000.000000     3\n",
       "32258.064516     3\n",
       "50000.000000     3\n",
       "75000.000000     3\n",
       "135000.000000    2\n",
       "19108.280255     2\n",
       "170000.000000    2\n",
       "17618.558215     2\n",
       "34408.602151     2\n",
       "7341.065923      2\n",
       "91397.849462     2\n",
       "95000.000000     2\n",
       "65000.000000     2\n",
       "43750.000000     2\n",
       "87331.536388     2\n",
       "8809.279107      2\n",
       "90909.090909     2\n",
       "                ..\n",
       "66666.666667     1\n",
       "33333.333333     1\n",
       "51000.000000     1\n",
       "1431.297710      1\n",
       "56561.085973     1\n",
       "112903.225806    1\n",
       "3234.501348      1\n",
       "45801.526718     1\n",
       "8064.516129      1\n",
       "6606.959330      1\n",
       "47800.000000     1\n",
       "76500.000000     1\n",
       "92500.000000     1\n",
       "51515.151515     1\n",
       "195000.000000    1\n",
       "82000.000000     1\n",
       "40645.161290     1\n",
       "18148.695563     1\n",
       "87000.000000     1\n",
       "113750.000000    1\n",
       "20537.634409     1\n",
       "81136.363636     1\n",
       "36129.032258     1\n",
       "43870.967742     1\n",
       "10762.331839     1\n",
       "2580.645161      1\n",
       "5160.000000      1\n",
       "32500.000000     1\n",
       "29520.430108     1\n",
       "9600.000000      1\n",
       "Name: Salary, Length: 200, dtype: int64"
      ]
     },
     "execution_count": 6,
     "metadata": {},
     "output_type": "execute_result"
    }
   ],
   "source": [
    "bootcamp_df['Salary'].value_counts()"
   ]
  },
  {
   "cell_type": "markdown",
   "metadata": {},
   "source": [
    "So we can see that person who attend bootcamp have there salary ranges from 9600 to 120000"
   ]
  },
  {
   "cell_type": "code",
   "execution_count": 82,
   "metadata": {},
   "outputs": [
    {
     "data": {
      "image/png": "[encoded data removed]",
      "text/plain": [
       "<matplotlib.figure.Figure at 0x7f9c94130b00>"
      ]
     },
     "metadata": {
      "needs_background": "light"
     },
     "output_type": "display_data"
    }
   ],
   "source": [
    "bootcamp_df['Salary'].value_counts().plot(kind=\"hist\");"
   ]
  },
  {
   "cell_type": "code",
   "execution_count": 8,
   "metadata": {},
   "outputs": [
    {
     "data": {
      "image/png": "[encoded data removed]",
      "text/plain": [
       "<matplotlib.figure.Figure at 0x7f9c99cc1400>"
      ]
     },
     "metadata": {
      "needs_background": "light"
     },
     "output_type": "display_data"
    }
   ],
   "source": [
    "((bootcamp_df['TimeAfterBootcamp'].value_counts()/bootcamp_df.shape[0])/df.shape[0]).plot(kind=\"bar\");\n",
    "plt.title(\"Bootcamp salary\");"
   ]
  },
  {
   "cell_type": "markdown",
   "metadata": {},
   "source": [
    "So We see that most of people who take Bootcamp are alerady developer and have Job \n",
    "So It is best practice and learn new thing for job and developer is to take Bootcamp which saves their precious time and motivate them"
   ]
  },
  {
   "cell_type": "markdown",
   "metadata": {},
   "source": [
    "# Q2 What type of Web Developrs take survey ,What is the gradution level of Data Scientist and what language they used ?"
   ]
  },
  {
   "cell_type": "code",
   "execution_count": 10,
   "metadata": {},
   "outputs": [],
   "source": [
    "web_devlopers=df['WebDeveloperType'].value_counts()"
   ]
  },
  {
   "cell_type": "code",
   "execution_count": 11,
   "metadata": {},
   "outputs": [
    {
     "data": {
      "text/plain": [
       "Full stack Web developer    2729\n",
       "Back-end Web developer      1074\n",
       "Front-end Web developer      483\n",
       "Name: WebDeveloperType, dtype: int64"
      ]
     },
     "execution_count": 11,
     "metadata": {},
     "output_type": "execute_result"
    }
   ],
   "source": [
    "web_devlopers"
   ]
  },
  {
   "cell_type": "code",
   "execution_count": 12,
   "metadata": {},
   "outputs": [
    {
     "data": {
      "text/plain": [
       "<matplotlib.axes._subplots.AxesSubplot at 0x7f9c99daa588>"
      ]
     },
     "execution_count": 12,
     "metadata": {},
     "output_type": "execute_result"
    },
    {
     "data": {
      "image/png": "[encoded data removed]",
      "text/plain": [
       "<matplotlib.figure.Figure at 0x7f9c99a9abe0>"
      ]
     },
     "metadata": {
      "needs_background": "light"
     },
     "output_type": "display_data"
    }
   ],
   "source": [
    "web_devlopers.plot(kind='bar')"
   ]
  },
  {
   "cell_type": "markdown",
   "metadata": {},
   "source": [
    "So they are mostly Full Stack Web Developer are in the market but what language full stack web developer used?\n"
   ]
  },
  {
   "cell_type": "code",
   "execution_count": 75,
   "metadata": {},
   "outputs": [],
   "source": [
    "web_dev=df[df['WebDeveloperType'].values==\"Full stack Web developer\"]"
   ]
  },
  {
   "cell_type": "code",
   "execution_count": 76,
   "metadata": {},
   "outputs": [
    {
     "data": {
      "text/plain": [
       "C#; JavaScript; SQL                                              174\n",
       "JavaScript; PHP; SQL                                             120\n",
       "Java; JavaScript                                                  78\n",
       "Java; JavaScript; SQL                                             75\n",
       "JavaScript; PHP                                                   72\n",
       "JavaScript                                                        66\n",
       "C#; JavaScript                                                    65\n",
       "C#; JavaScript; SQL; TypeScript                                   62\n",
       "JavaScript; Python                                                33\n",
       "C#; JavaScript; TypeScript                                        30\n",
       "JavaScript; PHP; Python; SQL                                      30\n",
       "JavaScript; Ruby                                                  26\n",
       "C#                                                                19\n",
       "Java; JavaScript; PHP; SQL                                        19\n",
       "C#; Java; JavaScript; SQL                                         18\n",
       "C#; JavaScript; PHP; SQL                                          18\n",
       "Java; JavaScript; Python; SQL                                     18\n",
       "JavaScript; Python; SQL                                           17\n",
       "C#; JavaScript; SQL; VB.NET                                       16\n",
       "Java                                                              16\n",
       "JavaScript; SQL                                                   16\n",
       "C#; SQL                                                           15\n",
       "Ruby                                                              14\n",
       "CoffeeScript; JavaScript; Ruby                                    13\n",
       "CoffeeScript; JavaScript; Ruby; SQL                               13\n",
       "Java; JavaScript; PHP                                             13\n",
       "JavaScript; Ruby; SQL                                             12\n",
       "C#; JavaScript; Python; SQL; TypeScript                           12\n",
       "JavaScript; PHP; SQL; TypeScript                                  12\n",
       "JavaScript; PHP; Ruby                                             12\n",
       "                                                                ... \n",
       "C++; Go; Java; JavaScript; Python; R; SQL                          1\n",
       "Go; JavaScript; TypeScript                                         1\n",
       "C#; F#; SQL                                                        1\n",
       "CoffeeScript; Java; JavaScript; Scala; SQL                         1\n",
       "JavaScript; Perl; PHP; Python; SQL                                 1\n",
       "JavaScript; PHP; Python; SQL; VBA                                  1\n",
       "C#; Python                                                         1\n",
       "Java; JavaScript; PHP; Python; SQL; Swift                          1\n",
       "C++; Haskell; JavaScript; PHP; Python; SQL; VBA                    1\n",
       "CoffeeScript; Java; JavaScript                                     1\n",
       "Go; Groovy; Java; JavaScript; Objective-C; Python; Ruby            1\n",
       "CoffeeScript; JavaScript; Lua; SQL                                 1\n",
       "JavaScript; PHP; Python; R; SQL                                    1\n",
       "C#; JavaScript; Swift; TypeScript                                  1\n",
       "C#; Java; JavaScript; Python; SQL; VB.NET                          1\n",
       "PHP; Python; SQL; TypeScript                                       1\n",
       "SQL                                                                1\n",
       "JavaScript; Objective-C; Swift                                     1\n",
       "CoffeeScript; JavaScript; Rust                                     1\n",
       "C; C++; Ruby; Scala                                                1\n",
       "C#; Java; JavaScript; Lua; PHP; Python; Ruby; SQL; TypeScript      1\n",
       "Java; JavaScript; Perl; PHP; SQL; TypeScript                       1\n",
       "C; C++; C#; JavaScript; SQL; VB.NET; VBA; Visual Basic 6           1\n",
       "JavaScript; R; Ruby                                                1\n",
       "C#; Erlang; Java; JavaScript; Python; SQL                          1\n",
       "C#; Go; Java; JavaScript; TypeScript                               1\n",
       "CoffeeScript; JavaScript; PHP; Ruby                                1\n",
       "Clojure; Erlang; Haskell; PHP; Ruby; Scala                         1\n",
       "C++; Java; PHP; SQL                                                1\n",
       "C#; JavaScript; PHP; Python; SQL; TypeScript; VB.NET               1\n",
       "Name: HaveWorkedLanguage, Length: 612, dtype: int64"
      ]
     },
     "execution_count": 76,
     "metadata": {},
     "output_type": "execute_result"
    }
   ],
   "source": [
    "web_dev['HaveWorkedLanguage'].value_counts()"
   ]
  },
  {
   "cell_type": "code",
   "execution_count": 13,
   "metadata": {},
   "outputs": [],
   "source": [
    "\n",
    "data_scientist=df[df['NonDeveloperType'].values==\"Data scientist\"]"
   ]
  },
  {
   "cell_type": "code",
   "execution_count": 14,
   "metadata": {},
   "outputs": [
    {
     "data": {
      "text/plain": [
       "Bachelor's degree                                                    0.312057\n",
       "Master's degree                                                      0.297872\n",
       "Doctoral degree                                                      0.241135\n",
       "Some college/university study without earning a bachelor's degree    0.085106\n",
       "Secondary school                                                     0.028369\n",
       "I prefer not to answer                                               0.021277\n",
       "Professional degree                                                  0.014184\n",
       "Name: FormalEducation, dtype: float64"
      ]
     },
     "execution_count": 14,
     "metadata": {},
     "output_type": "execute_result"
    }
   ],
   "source": [
    "data_scientist['FormalEducation'].value_counts()/data_scientist.shape[0]"
   ]
  },
  {
   "cell_type": "code",
   "execution_count": 15,
   "metadata": {},
   "outputs": [
    {
     "data": {
      "text/plain": [
       "<matplotlib.axes._subplots.AxesSubplot at 0x7f9c99b4e1d0>"
      ]
     },
     "execution_count": 15,
     "metadata": {},
     "output_type": "execute_result"
    },
    {
     "data": {
      "image/png": "[encoded data removed]",
      "text/plain": [
       "<matplotlib.figure.Figure at 0x7f9c990cc3c8>"
      ]
     },
     "metadata": {
      "needs_background": "light"
     },
     "output_type": "display_data"
    }
   ],
   "source": [
    "data_scientist['FormalEducation'].value_counts().plot(kind='bar',color='blue')"
   ]
  },
  {
   "cell_type": "markdown",
   "metadata": {},
   "source": [
    "Now We can see person who are Data Scientist have Bachelors Degree and Master Degree and Bachelors are more means that they are not so much high qualification required to becom Data Scientist "
   ]
  },
  {
   "cell_type": "code",
   "execution_count": 69,
   "metadata": {},
   "outputs": [
    {
     "data": {
      "text/plain": [
       "Python; R; SQL                                                              7\n",
       "R                                                                           6\n",
       "Python; R                                                                   6\n",
       "Python                                                                      6\n",
       "R; SQL                                                                      4\n",
       "C; C++; Python                                                              4\n",
       "Matlab; Python                                                              3\n",
       "Matlab; Python; R; SQL                                                      3\n",
       "Python; SQL; VBA                                                            2\n",
       "JavaScript; PHP; SQL                                                        2\n",
       "JavaScript; Python; SQL                                                     2\n",
       "Python; SQL                                                                 2\n",
       "JavaScript; R                                                               2\n",
       "C++; R; SQL                                                                 1\n",
       "Java; JavaScript; Lua; Perl; PHP; Python; SQL                               1\n",
       "JavaScript; Matlab; Python; SQL                                             1\n",
       "C; C++; Java; JavaScript; Python; SQL                                       1\n",
       "JavaScript; Matlab; Python                                                  1\n",
       "C#; SQL; VBA                                                                1\n",
       "Java; JavaScript; PHP; Python; SQL; TypeScript                              1\n",
       "C; C++; JavaScript; Lua; Python                                             1\n",
       "Julia; Python; R                                                            1\n",
       "C; Common Lisp; SQL                                                         1\n",
       "JavaScript; PHP; Python; SQL                                                1\n",
       "Java; Matlab; R; SQL                                                        1\n",
       "JavaScript; PHP; SQL; VBA                                                   1\n",
       "C++                                                                         1\n",
       "Assembly; C; CoffeeScript; Haskell; Python                                  1\n",
       "C#; Matlab                                                                  1\n",
       "C++; C#; JavaScript; Objective-C; Python; SQL; TypeScript                   1\n",
       "                                                                           ..\n",
       "C#; CoffeeScript; Haskell; Python                                           1\n",
       "JavaScript; Perl; PHP; R; SQL                                               1\n",
       "JavaScript; Perl; PHP; SQL                                                  1\n",
       "Assembly; Java                                                              1\n",
       "SQL                                                                         1\n",
       "Hack; Haskell; Java; JavaScript; Julia; Python; R; SQL                      1\n",
       "Java; Python; R; SQL                                                        1\n",
       "R; SQL; VBA                                                                 1\n",
       "C#; Java; SQL                                                               1\n",
       "C++; Haskell; Java; Python; Scala; SQL                                      1\n",
       "Java; R; Scala                                                              1\n",
       "Assembly; C; C++; C#; Common Lisp; Java; Matlab; Perl; PHP; Python; Ruby    1\n",
       "C; C++; JavaScript; R; SQL; VBA                                             1\n",
       "C; C++; Erlang; Perl; PHP; Python; R; Ruby; SQL                             1\n",
       "C; C++; Java; Python                                                        1\n",
       "C; Java; JavaScript; Python                                                 1\n",
       "Python; R; Ruby; Scala; SQL                                                 1\n",
       "Assembly; C; C++; Java; JavaScript; Lua; Matlab; PHP; Python                1\n",
       "C; C++; C#; JavaScript; PHP; SQL; VB.NET; VBA                               1\n",
       "Python; R; Scala; SQL                                                       1\n",
       "Java; PHP                                                                   1\n",
       "C; Java; JavaScript; Matlab; Perl; Python; VB.NET; Visual Basic 6           1\n",
       "Java; Perl; SQL                                                             1\n",
       "Haskell; Java; Python; Visual Basic 6                                       1\n",
       "C++; Haskell; JavaScript; Matlab                                            1\n",
       "C; F#; Matlab; Python                                                       1\n",
       "C++; JavaScript; PHP; Python                                                1\n",
       "C; Python                                                                   1\n",
       "C; C++; C#; Java; PHP; Python; R; SQL                                       1\n",
       "C; Matlab; Python                                                           1\n",
       "Name: HaveWorkedLanguage, Length: 66, dtype: int64"
      ]
     },
     "execution_count": 69,
     "metadata": {},
     "output_type": "execute_result"
    }
   ],
   "source": [
    "data_scientist['HaveWorkedLanguage'].value_counts()"
   ]
  },
  {
   "cell_type": "code",
   "execution_count": 71,
   "metadata": {},
   "outputs": [
    {
     "data": {
      "text/plain": [
       "Other                                           13\n",
       "Data scientist                                   6\n",
       "Analyst or consultant                            6\n",
       "Educator or academic                             4\n",
       "Analyst or consultant; Data scientist; Other     2\n",
       "Analyst or consultant; Data scientist            2\n",
       "Analyst or consultant; Educator or academic      1\n",
       "Educator or academic; Other                      1\n",
       "Data scientist; Other                            1\n",
       "Data scientist; Educator or academic             1\n",
       "Product manager                                  1\n",
       "Analyst or consultant; Other                     1\n",
       "Name: NonDeveloperType, dtype: int64"
      ]
     },
     "execution_count": 71,
     "metadata": {},
     "output_type": "execute_result"
    }
   ],
   "source": [
    "python_developer=df[df['HaveWorkedLanguage'].values==\"Python\"]\n",
    "python_developer['NonDeveloperType'].value_counts()"
   ]
  },
  {
   "cell_type": "markdown",
   "metadata": {},
   "source": [
    "So we can see that most of python developer choose Data Scientist for their carrer very fue choose Analyst or Educator"
   ]
  },
  {
   "cell_type": "markdown",
   "metadata": {},
   "source": [
    "No. of data scientist that uses Python for their work"
   ]
  },
  {
   "cell_type": "code",
   "execution_count": 47,
   "metadata": {},
   "outputs": [
    {
     "data": {
      "text/plain": [
       "141"
      ]
     },
     "execution_count": 47,
     "metadata": {},
     "output_type": "execute_result"
    }
   ],
   "source": [
    "len(data_scientist['HaveWorkedLanguage'].values=='Python')"
   ]
  },
  {
   "cell_type": "markdown",
   "metadata": {},
   "source": [
    "# Q3 What are the habits of developers like when they start their work , what are the remote developers timing and habits to do their daily work? "
   ]
  },
  {
   "cell_type": "code",
   "execution_count": 19,
   "metadata": {},
   "outputs": [
    {
     "data": {
      "text/plain": [
       "9:00 AM     3570\n",
       "10:00 AM    3380\n",
       "8:00 AM     2658\n",
       "7:00 AM     1282\n",
       "11:00 AM     772\n",
       "6:00 AM      447\n",
       "Noon         385\n",
       "1:00 PM      165\n",
       "2:00 PM      160\n",
       "4:00 PM       94\n",
       "5:00 AM       92\n",
       "8:00 PM       79\n",
       "6:00 PM       67\n",
       "3:00 PM       65\n",
       "10:00 PM      64\n",
       "9:00 PM       52\n",
       "7:00 PM       38\n",
       "4:00 AM       31\n",
       "5:00 PM       28\n",
       "11:00 PM      24\n",
       "Midnight      23\n",
       "3:00 AM       18\n",
       "1:00 AM       17\n",
       "2:00 AM       12\n",
       "Name: WorkStart, dtype: int64"
      ]
     },
     "execution_count": 19,
     "metadata": {},
     "output_type": "execute_result"
    }
   ],
   "source": [
    "df['WorkStart'].value_counts()"
   ]
  },
  {
   "cell_type": "markdown",
   "metadata": {},
   "source": [
    "So We see that most of developer who take survey start their work at 9am,10am . I think that they are those who do work full time in office"
   ]
  },
  {
   "cell_type": "markdown",
   "metadata": {},
   "source": [
    "what is the status of remote working"
   ]
  },
  {
   "cell_type": "code",
   "execution_count": 46,
   "metadata": {},
   "outputs": [
    {
     "data": {
      "text/plain": [
       "A few days each month                                      5876\n",
       "Never                                                      5288\n",
       "All or almost all the time (I'm full-time remote)          1922\n",
       "Less than half the time, but at least one day each week    1464\n",
       "More than half, but not all, the time                       676\n",
       "It's complicated                                            633\n",
       "About half the time                                         612\n",
       "Name: HomeRemote, dtype: int64"
      ]
     },
     "execution_count": 46,
     "metadata": {},
     "output_type": "execute_result"
    }
   ],
   "source": [
    "df['HomeRemote'].value_counts()"
   ]
  },
  {
   "cell_type": "code",
   "execution_count": 44,
   "metadata": {},
   "outputs": [],
   "source": [
    "remote_work_people=df[df['HomeRemote'].values==\"All or almost all the time (I'm full-time remote)\"]"
   ]
  },
  {
   "cell_type": "code",
   "execution_count": 45,
   "metadata": {},
   "outputs": [
    {
     "data": {
      "text/plain": [
       "10:00 AM    357\n",
       "9:00 AM     321\n",
       "8:00 AM     230\n",
       "7:00 AM     133\n",
       "11:00 AM     95\n",
       "6:00 AM      59\n",
       "Noon         44\n",
       "2:00 PM      29\n",
       "5:00 AM      28\n",
       "1:00 PM      26\n",
       "4:00 PM      24\n",
       "8:00 PM      20\n",
       "9:00 PM      16\n",
       "10:00 PM     14\n",
       "3:00 PM      12\n",
       "6:00 PM      10\n",
       "Midnight      7\n",
       "4:00 AM       7\n",
       "7:00 PM       4\n",
       "1:00 AM       4\n",
       "3:00 AM       4\n",
       "5:00 PM       2\n",
       "11:00 PM      1\n",
       "2:00 AM       1\n",
       "Name: WorkStart, dtype: int64"
      ]
     },
     "execution_count": 45,
     "metadata": {},
     "output_type": "execute_result"
    }
   ],
   "source": [
    "remote_work_people['WorkStart'].value_counts()"
   ]
  },
  {
   "cell_type": "code",
   "execution_count": 39,
   "metadata": {},
   "outputs": [
    {
     "data": {
      "text/plain": [
       "10:00 AM    0.105621\n",
       "10:00 PM    0.218750\n",
       "11:00 AM    0.123057\n",
       "11:00 PM    0.041667\n",
       "1:00 AM     0.235294\n",
       "1:00 PM     0.157576\n",
       "2:00 AM     0.083333\n",
       "2:00 PM     0.181250\n",
       "3:00 AM     0.222222\n",
       "3:00 PM     0.184615\n",
       "4:00 AM     0.225806\n",
       "4:00 PM     0.255319\n",
       "5:00 AM     0.304348\n",
       "5:00 PM     0.071429\n",
       "6:00 AM     0.131991\n",
       "6:00 PM     0.149254\n",
       "7:00 AM     0.103744\n",
       "7:00 PM     0.105263\n",
       "8:00 AM     0.086531\n",
       "8:00 PM     0.253165\n",
       "9:00 AM     0.089916\n",
       "9:00 PM     0.307692\n",
       "Midnight    0.304348\n",
       "Noon        0.114286\n",
       "Name: WorkStart, dtype: float64"
      ]
     },
     "execution_count": 39,
     "metadata": {},
     "output_type": "execute_result"
    }
   ],
   "source": [
    "remote_work_people['WorkStart'].value_counts()/df['WorkStart'].value_counts()"
   ]
  },
  {
   "cell_type": "code",
   "execution_count": 38,
   "metadata": {},
   "outputs": [
    {
     "data": {
      "text/plain": [
       "<matplotlib.axes._subplots.AxesSubplot at 0x7f9c98d482b0>"
      ]
     },
     "execution_count": 38,
     "metadata": {},
     "output_type": "execute_result"
    },
    {
     "data": {
      "image/png": "[encoded data removed]",
      "text/plain": [
       "<matplotlib.figure.Figure at 0x7f9c98cc0748>"
      ]
     },
     "metadata": {
      "needs_background": "light"
     },
     "output_type": "display_data"
    }
   ],
   "source": [
    "(remote_work_people['WorkStart'].value_counts()/df['WorkStart'].value_counts()).plot(kind='bar',color='blue')"
   ]
  },
  {
   "cell_type": "markdown",
   "metadata": {},
   "source": [
    "So we see most of the remote workers prefer to start their work at 5am,9pm and midnight \n",
    "But How many of them are profesional ?"
   ]
  },
  {
   "cell_type": "code",
   "execution_count": 49,
   "metadata": {},
   "outputs": [
    {
     "data": {
      "text/plain": [
       "Professional developer                                  1546\n",
       "Student                                                  173\n",
       "Professional non-developer who sometimes writes code     169\n",
       "Used to be a professional developer                       34\n",
       "Name: Professional, dtype: int64"
      ]
     },
     "execution_count": 49,
     "metadata": {},
     "output_type": "execute_result"
    }
   ],
   "source": [
    "remote_work_people['Professional'].value_counts()"
   ]
  },
  {
   "cell_type": "code",
   "execution_count": 67,
   "metadata": {},
   "outputs": [
    {
     "data": {
      "text/plain": [
       "Professional developer                                  0.804370\n",
       "Student                                                 0.090010\n",
       "Professional non-developer who sometimes writes code    0.087929\n",
       "Used to be a professional developer                     0.017690\n",
       "Name: Professional, dtype: float64"
      ]
     },
     "execution_count": 67,
     "metadata": {},
     "output_type": "execute_result"
    }
   ],
   "source": [
    "remote_work_people['Professional'].value_counts()/remote_work_people.shape[0]"
   ]
  },
  {
   "cell_type": "markdown",
   "metadata": {},
   "source": [
    "Remote working people are mostly Professional developer that is about 80%"
   ]
  }
 ],
 "metadata": {
  "kernelspec": {
   "display_name": "Python 3",
   "language": "python",
   "name": "python3"
  },
  "language_info": {
   "codemirror_mode": {
    "name": "ipython",
    "version": 3
   },
   "file_extension": ".py",
   "mimetype": "text/x-python",
   "name": "python",
   "nbconvert_exporter": "python",
   "pygments_lexer": "ipython3",
   "version": "3.6.3"
  }
 },
 "nbformat": 4,
 "nbformat_minor": 2
}
